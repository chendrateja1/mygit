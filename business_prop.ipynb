{
    "cells": [
        {
            "cell_type": "markdown",
            "metadata": {
                "collapsed": true
            },
           "source": "## Business Proposal\n\n
 The Battle of Neighborhoods | Business Proposal | Introduction
 Introduction:
 The purpose of this Project is to help people in exploring better facilities around their neighborhood. It will help people making smart and efficient decision on selecting great neighborhood out of numbers of other neighborhoods in Scarborough, Toranto.
 
 Lots of people are migrating to various states of Canada and needed lots of research for good housing prices and reputated schools for their children. This project is for those people who are looking for better neighborhoods. For ease of accessing to Cafe, School, Super market, medical shops, grocery shops, mall, theatre, hospital, like minded people, etc.
 
 This Project aim to create an analysis of features for a people migrating to Scarborough to search a best neighborhood as a comparative analysis between neighborhoods. The features include median housing price and better school according to ratings, crime rates of that particular area, road connectivity, weather conditions, good management for emergency, water resources both fresh and waste water and excrement conveyed in sewers and recreational facilities.
 
 It will help people to get awareness of the area and neighborhood before moving to a new city, state, country or place for their work or to start a new fresh life.
 
 Problem Which Tried to Solve:
 The major purpose of this project, is to suggest a better neighborhood in a new city for the person who are shifting there. Social presence in society in terms of like minded people. Connectivity to the airport, bus stand, city center, markets and other daily needs things nearby.
 
 Sorted list of house in terms of housing prices in a ascending or descending order
 Sorted list of schools in terms of location, fees, rating and reviews
 The Location:
 Scarborough is a popular destination for new immigrants in Canada to reside. As a result, it is one of the most diverse and multicultural areas in the Greater Toronto Area, being home to various religious groups and places of worship. Although immigration has become a hot topic over the past few years with more governments seeking more restrictions on immigrants and refugees, the general trend of immigration into Canada has been one of on the rise.
 
 Foursquare API:
 This project would use Four-square API as its prime data gathering source as it has a database of millions of places, especially their places API which provides the ability to perform location search, location sharing and details about a business.
 
 Work Flow:
 Using credentials of Foursquare API features of near-by places of the neighborhoods would be mined. Due to http request limitations the number of places per neighborhood parameter would reasonably be set to 100 and the radius parameter would be set to 500.
 
 Clustering Approach:
 To compare the similarities of two cities, we decided to explore neighborhoods, segment them, and group them into clusters to find similar neighborhoods in a big city like New York and Toronto. To be able to do that, we need to cluster data which is a form of unsupervised machine learning: k-means clustering algorithm
 
 Libraries Which are Used to Develop the Project:
 Pandas: For creating and manipulating dataframes.
 
 Folium: Python visualization library would be used to visualize the neighborhoods cluster distribution of using interactive leaflet map.
 
 Scikit Learn: For importing k-means clustering.
 
 JSON: Library to handle JSON files.
 
 XML: To separate data from presentation and XML stores data in plain text format.
 
 Geocoder: To retrieve Location Data.
 
 Beautiful Soup and Requests: To scrap and library to handle http requests.
 
 Matplotlib: Python Plotting Module.

 "    },
        {
            "cell_type": "code",
            "execution_count": null,
            "metadata": {},
            "outputs": [],
            "source": ""
        },
        {
            "cell_type": "markdown",
            "metadata": {},
            "source": "## Data\nIn this capstone project, the example data of ArcGIS collision data is used. This set of data recorded the conditions of in total 194673 collisions from 2004/01/01 to 2020/05/19 at City of Seattle by SDOT Traffic Management Division, Traffic Records Group. The following informations are highlighted as expected to have determining factor on accidents:\n1. Geographic location\n2. Light condition \n3. Driver condition on drugs and alcohol\n4. Road condition\n5. Weather\n6. Speeding\n7. Parked car\n8. Seriesness of the collision\n\nThese information are useful for finding the most impactful way to reduce the collision. For example, one can correlate the light condition and the frequency of the collsion to determine which light condition is the most dangerous for driver. It may also be possible to reveal the location of imporper light design by locating collision with different light conditions, then we may be able to find some region or road has bad light design which will cause higher density of collision. \n\nWith different combination of information, this data set can reveal how we can improve road design to reduce collision effectively by the proper use of data analysis method. \n"
        },
        {
            "cell_type": "code",
            "execution_count": null,
            "metadata": {},
            "outputs": [],
            "source": ""
        }
    ],
    "metadata": {
        "kernelspec": {
            "display_name": "Python 3.6",
            "language": "python",
            "name": "python3"
        },
        "language_info": {
            "codemirror_mode": {
                "name": "ipython",
                "version": 3
            },
            "file_extension": ".py",
            "mimetype": "text/x-python",
            "name": "python",
            "nbconvert_exporter": "python",
            "pygments_lexer": "ipython3",
            "version": "3.6.9"
        }
    },
    "nbformat": 4,
    "nbformat_minor": 1
}
