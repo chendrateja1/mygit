{
    "cells": [
        {
            "cell_type": "markdown",
            "metadata": {
                "collapsed": true
            },
"source": "## Introduction\n\nFrom 2004 to half of 2020, there are more than 12000 collision every year in Seattle, which means in total around 200000 have happened in just on city. Collision is a serious and very common problem.\n\nData science can come into play on the traffic accident problem. By investiagating the data collected from the previous traffic accidents, data science can diagnose the casue of traffic accidents. From uncontrolable factors, like weather and animals, to controlable factors, like roads design and improper use of car, data sciecne can find out the impact of those factors. \n\nWith the knowledge of different factors causing the traffic accidents, then effective solution can be found to deal with this problem. Thus reducing the loss from accidents. The data analysis on car accidents is benefical to government because of above reason. It may also be a good basis for traffic technology to predict and prevent accidents by analysing the traffic conditions and warming the driver with high risk. "        },
        {
            "cell_type": "code",
            "execution_count": null,
            "metadata": {},
            "outputs": [],
            "source": ""
        },
        {
            "cell_type": "markdown",
            "metadata": {},
            "source": "## Data\nIn this capstone project, the example data of ArcGIS collision data is used. This set of data recorded the conditions of in total 194673 collisions from 2004/01/01 to 2020/05/19 at City of Seattle by SDOT Traffic Management Division, Traffic Records Group. The following informations are highlighted as expected to have determining factor on accidents:\n1. Geographic location\n2. Light condition \n3. Driver condition on drugs and alcohol\n4. Road condition\n5. Weather\n6. Speeding\n7. Parked car\n8. Seriesness of the collision\n\nThese information are useful for finding the most impactful way to reduce the collision. For example, one can correlate the light condition and the frequency of the collsion to determine which light condition is the most dangerous for driver. It may also be possible to reveal the location of imporper light design by locating collision with different light conditions, then we may be able to find some region or road has bad light design which will cause higher density of collision. \n\nWith different combination of information, this data set can reveal how we can improve road design to reduce collision effectively by the proper use of data analysis method. \n"
        },
        {
            "cell_type": "code",
            "execution_count": null,
            "metadata": {},
            "outputs": [],
            "source": ""
        }
    ],
    "metadata": {
        "kernelspec": {
            "display_name": "Python 3.6",
            "language": "python",
            "name": "python3"
        },
        "language_info": {
            "codemirror_mode": {
                "name": "ipython",
                "version": 3
            },
            "file_extension": ".py",
            "mimetype": "text/x-python",
            "name": "python",
            "nbconvert_exporter": "python",
            "pygments_lexer": "ipython3",
            "version": "3.6.9"
        }
    },
    "nbformat": 4,
    "nbformat_minor": 1
}
